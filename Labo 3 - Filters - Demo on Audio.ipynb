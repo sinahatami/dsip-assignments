
<!-- saved from url=(0127)https://2022.aulaweb.unige.it/pluginfile.php/266164/mod_resource/content/1/Labo%203%20-%20Filters%20-%20Demo%20on%20Audio.ipynb -->
<html><head><meta http-equiv="Content-Type" content="text/html; charset=UTF-8"></head><body cz-shortcut-listen="true">{
 "cells": [
  {
   "cell_type": "code",
   "execution_count": 1,
   "metadata": {},
   "outputs": [],
   "source": [
    "# from __future__ import division # uncomment this if using Python 2.7\n",
    "import numpy as np\n",
    "import scipy.signal as signal\n",
    "import matplotlib.pyplot as plt\n",
    "%matplotlib inline\n",
    "\n",
    "#import DSIP_utils as dsip"
   ]
  },
  {
   "cell_type": "markdown",
   "metadata": {},
   "source": [
    "# Signal filtering\n",
    "\n",
    "In the previous labs, we introduced the concept of signal analysis in the frequency domain through the concepts of <i>Fourier series</i> decomposition and <i>Fourier (inverse) transform</i>. \n",
    "\n",
    "<b>Why should we care about that?</b> \n",
    "\n",
    "The main goal of this lab is to show one of the most important application of the Fourier theory in signal processing."
   ]
  },
  {
   "cell_type": "markdown",
   "metadata": {},
   "source": [
    "## Audio signal filtering\n",
    "We consider an application from the real world: audio signal filtering. The audio signal of choice is the song <a href="https://2022.aulaweb.unige.it/%22https://www.youtube.com/watch?v=8UVNT4wvIGY\%22">Somebody that I used to know</a> by Gotye feat. Kymbra, 2011. This song presents low frequency components (the bassline is played the same way during the whole song), as well as high frequency ones (a xylophone maybe?) as well as components that show up in basically every band (Gotye's and Kymbra's voices). Let's listen to this song."
   ]
  },
  {
   "cell_type": "code",
   "execution_count": 2,
   "metadata": {},
   "outputs": [
    {
     "data": {
      "text/html": [
       "\n",
       "                <audio controls="\&quot;controls\&quot;">\n",
       "                    </audio></body></html>